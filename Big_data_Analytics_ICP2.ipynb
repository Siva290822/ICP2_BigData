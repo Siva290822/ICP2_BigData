{
  "nbformat": 4,
  "nbformat_minor": 0,
  "metadata": {
    "colab": {
      "provenance": [],
      "authorship_tag": "ABX9TyOz3iu73MiaG/L4VQ0Xc4xP",
      "include_colab_link": true
    },
    "kernelspec": {
      "name": "python3",
      "display_name": "Python 3"
    },
    "language_info": {
      "name": "python"
    }
  },
  "cells": [
    {
      "cell_type": "markdown",
      "metadata": {
        "id": "view-in-github",
        "colab_type": "text"
      },
      "source": [
        "<a href=\"https://colab.research.google.com/github/Siva290822/ICP2_BigData/blob/main/Big_data_Analytics_ICP2.ipynb\" target=\"_parent\"><img src=\"https://colab.research.google.com/assets/colab-badge.svg\" alt=\"Open In Colab\"/></a>"
      ]
    },
    {
      "cell_type": "code",
      "execution_count": null,
      "metadata": {
        "colab": {
          "base_uri": "https://localhost:8080/"
        },
        "id": "2UONQzyAuwy2",
        "outputId": "f97335c8-8f97-4860-db38-bb293d1c58b9"
      },
      "outputs": [
        {
          "output_type": "stream",
          "name": "stdout",
          "text": [
            "(3, 1)\n",
            "(3, 2)\n"
          ]
        }
      ],
      "source": [
        "class Counter:\n",
        "    count = 0\n",
        "\n",
        "    def __init__(self):\n",
        "        self._count = 0\n",
        "    def increment(self):\n",
        "        Counter.count += 1\n",
        "        self._count += 1\n",
        "\n",
        "    def get_counts(self):\n",
        "        return (Counter.count, self._count)\n",
        "\n",
        "\n",
        "a = Counter()\n",
        "b = Counter()\n",
        "a.increment()\n",
        "b.increment()\n",
        "b.increment()\n",
        "\n",
        "print(a.get_counts())\n",
        "print(b.get_counts())\n",
        "\n"
      ]
    },
    {
      "cell_type": "markdown",
      "source": [
        "tasks\n",
        "Explain the difference between Counter.count and self._count.\n",
        "->Counter.count refers to a class variable — shared across all instances of the class.\n",
        "\n",
        "self._count refers to an instance variable — each object maintains its own version.\n",
        "\n",
        "What is the output of a.get_counts() and b.get_counts()?\n",
        "->print(a.get_counts())  # Output: (3, 1)\n",
        "print(b.get_counts())  # Output: (3, 2)\n",
        "\n",
        "• How does the increment method affect both the class and instance variables?\n",
        "->otal class-level increments = 3.\n",
        "Object a incremented once → instance _count = 1\n",
        "Object b incremented twice → instance _count = 2"
      ],
      "metadata": {
        "id": "5rA_fiF_wl43"
      }
    },
    {
      "cell_type": "code",
      "source": [
        "class BugFree:\n",
        "    def __init__(self):\n",
        "        self.value = 0\n",
        "\n",
        "    def add(self, val):\n",
        "        self.value += val\n",
        "\n",
        "    def get_value(self):\n",
        "        return self.value\n",
        "\n",
        "\n",
        "# Example\n",
        "obj = BugFree()\n",
        "obj.add(5)\n",
        "obj.add(10)\n",
        "\n",
        "print(\"Final value:\", obj.get_value())\n"
      ],
      "metadata": {
        "colab": {
          "base_uri": "https://localhost:8080/"
        },
        "id": "5mqAoxDAwtcB",
        "outputId": "51bce31e-ffd9-488f-9065-60b0feada991"
      },
      "execution_count": null,
      "outputs": [
        {
          "output_type": "stream",
          "name": "stdout",
          "text": [
            "Final value: 15\n"
          ]
        }
      ]
    },
    {
      "cell_type": "code",
      "source": [
        "class Employee:\n",
        "    employee_count = 0\n",
        "    total_salary = 0\n",
        "\n",
        "    def __init__(self, name, family, salary, department):\n",
        "        self.name = name\n",
        "        self.family = family\n",
        "        self.salary = salary\n",
        "        self.department = department\n",
        "\n",
        "        Employee.employee_count += 1\n",
        "        Employee.total_salary += salary\n",
        "\n",
        "    @classmethod\n",
        "    def average_salary(cls):\n",
        "        if cls.employee_count == 0:\n",
        "            return 0\n",
        "        return cls.total_salary / cls.employee_count\n",
        "\n",
        "    def display_info(self):\n",
        "        print(f\"Name: {self.name}, Family: {self.family}, Salary: {self.salary}, Department: {self.department}\")\n",
        "\n",
        "\n",
        "class FulltimeEmployee(Employee):\n",
        "    def __init__(self, name, family, salary, department):\n",
        "        super().__init__(name, family, salary, department)\n",
        "\n",
        "e1 = Employee(\"Alice\", \"Smith\", 50000, \"Engineering\")\n",
        "e2 = FulltimeEmployee(\"Bob\", \"Johnson\", 60000, \"HR\")\n",
        "e3 = FulltimeEmployee(\"Charlie\", \"Williams\", 70000, \"Marketing\")\n",
        "\n",
        "e1.display_info()\n",
        "e2.display_info()\n",
        "e3.display_info()\n",
        "\n",
        "print(\"\\nTotal Employees:\", Employee.employee_count)\n",
        "print(\"Average Salary:\", Employee.average_salary())\n"
      ],
      "metadata": {
        "colab": {
          "base_uri": "https://localhost:8080/"
        },
        "id": "vJmvJN-Eyest",
        "outputId": "c41ae5b3-3a3f-4c74-815b-9e54a1f7dee2"
      },
      "execution_count": null,
      "outputs": [
        {
          "output_type": "stream",
          "name": "stdout",
          "text": [
            "Name: Alice, Family: Smith, Salary: 50000, Department: Engineering\n",
            "Name: Bob, Family: Johnson, Salary: 60000, Department: HR\n",
            "Name: Charlie, Family: Williams, Salary: 70000, Department: Marketing\n",
            "\n",
            "Total Employees: 3\n",
            "Average Salary: 60000.0\n"
          ]
        }
      ]
    },
    {
      "cell_type": "code",
      "source": [
        "def first_word(word_list):\n",
        "    sorted_list = sorted(word_list)\n",
        "    return sorted_list[0]\n",
        "\n",
        "students = ['Mary', 'Zelda', 'Jimmy', 'Jack', 'Bartholomew', 'Gertrude']\n",
        "print(first_word(students))\n"
      ],
      "metadata": {
        "colab": {
          "base_uri": "https://localhost:8080/"
        },
        "id": "o_gC-Pghx6tZ",
        "outputId": "22e1cb53-4e60-41ea-b1af-9eeabb87269a"
      },
      "execution_count": null,
      "outputs": [
        {
          "output_type": "stream",
          "name": "stdout",
          "text": [
            "Bartholomew\n"
          ]
        }
      ]
    }
  ]
}